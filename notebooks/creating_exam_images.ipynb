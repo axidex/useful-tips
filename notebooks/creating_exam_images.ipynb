{
 "cells": [
  {
   "cell_type": "code",
   "execution_count": 3,
   "metadata": {},
   "outputs": [],
   "source": [
    "import sys\n",
    "import os\n",
    "sys.path.append('..')\n",
    "os.makedirs(\"../results\", exist_ok=True)\n",
    "\n",
    "from src.create_image_with_text import create_image_with_text\n",
    "\n",
    "with open(\"../misc/exam_questions.txt\", encoding=\"utf-8\") as f:\n",
    "    for idx, line in enumerate(f.readlines()):\n",
    "        create_image_with_text(text=line.strip(), path_to_image=f\"../results/{idx+1}-name.jpg\", path_to_font=\"../assets/montserrat/Montserrat-ExtraBold.ttf\")\n",
    "        # break"
   ]
  }
 ],
 "metadata": {
  "kernelspec": {
   "display_name": "Python 3",
   "language": "python",
   "name": "python3"
  },
  "language_info": {
   "codemirror_mode": {
    "name": "ipython",
    "version": 3
   },
   "file_extension": ".py",
   "mimetype": "text/x-python",
   "name": "python",
   "nbconvert_exporter": "python",
   "pygments_lexer": "ipython3",
   "version": "3.10.0"
  }
 },
 "nbformat": 4,
 "nbformat_minor": 2
}
